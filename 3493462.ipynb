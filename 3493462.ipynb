{
 "cells": [
  {
   "cell_type": "markdown",
   "metadata": {
    "collapsed": false
   },
   "source": [
    "# 作业三：选择模型并完成训练"
   ]
  },
  {
   "cell_type": "markdown",
   "metadata": {
    "collapsed": false
   },
   "source": [
    "**作业三链接**[作业三](https://aistudio.baidu.com/aistudio/projectdetail/3477842)"
   ]
  },
  {
   "cell_type": "markdown",
   "metadata": {
    "collapsed": false
   },
   "source": [
    "## 评分标准\n",
    "\n",
    "* 选择模型，可用套件，也可以自己组网 （30分）\n",
    "\n",
    "* 配置超参数并训练模型（30分）\n",
    "\n",
    "* 测试模型效果（30分）\n",
    "\n",
    "* 可视化模型效果（10分）"
   ]
  },
  {
   "cell_type": "markdown",
   "metadata": {
    "collapsed": false
   },
   "source": [
    "## 模型准备\n",
    "\n",
    "（为了缩短开发周期，建议选择飞桨官方套件，如果有余力可以自己组网实现）"
   ]
  },
  {
   "cell_type": "code",
   "execution_count": null,
   "metadata": {
    "collapsed": false
   },
   "outputs": [],
   "source": [
    "# model prepare"
   ]
  },
  {
   "cell_type": "markdown",
   "metadata": {
    "collapsed": false
   },
   "source": [
    "## 模型训练\n",
    "\n",
    "训练模型需要说明：\n",
    "\n",
    "* lr_schedule\n",
    "* optimize\n",
    "* epoch\n",
    "* batch_size\n",
    "* Loss function"
   ]
  },
  {
   "cell_type": "code",
   "execution_count": null,
   "metadata": {
    "collapsed": false
   },
   "outputs": [],
   "source": [
    "# train prepare"
   ]
  },
  {
   "cell_type": "markdown",
   "metadata": {
    "collapsed": false
   },
   "source": [
    "## 测试模型\n",
    "\n",
    "如果可以可视化模型效果则加分"
   ]
  },
  {
   "cell_type": "code",
   "execution_count": null,
   "metadata": {
    "collapsed": false
   },
   "outputs": [],
   "source": [
    "# test prepare"
   ]
  },
  {
   "cell_type": "markdown",
   "metadata": {
    "collapsed": false
   },
   "source": [
    "## 提交方式\n",
    "\n",
    "本作业提交方式需要同学提供作业项目链接\n",
    "\n",
    "链接地址：{填写你项目的链接}\n",
    "\n",
    "注意事项：\n",
    "\n",
    "* 本作业建议大家新建项目，在新建的项目完成作业（新建项目可以挂载需要的数据集）\n",
    "* 如何新建项目请参考新手教程，在新建项目完成作业后要记得公开，这样我们才能看到你的作业\n",
    "* 评分标准以上述为准"
   ]
  },
  {
   "cell_type": "markdown",
   "metadata": {
    "collapsed": false
   },
   "source": [
    "## 参考\n",
    "* [基于PaddleSeg的眼底血管分割](https://aistudio.baidu.com/aistudio/projectdetail/1144243)\n",
    "* [基于PaddleNLP的小样本学习策略库EFL实现中文科学文献学科分类](https://aistudio.baidu.com/aistudio/projectdetail/2117875)"
   ]
  }
 ],
 "metadata": {
  "kernelspec": {
   "display_name": "Python 3",
   "language": "python",
   "name": "py35-paddle1.2.0"
  },
  "language_info": {
   "codemirror_mode": {
    "name": "ipython",
    "version": 3
   },
   "file_extension": ".py",
   "mimetype": "text/x-python",
   "name": "python",
   "nbconvert_exporter": "python",
   "pygments_lexer": "ipython3",
   "version": "3.7.4"
  }
 },
 "nbformat": 4,
 "nbformat_minor": 1
}
